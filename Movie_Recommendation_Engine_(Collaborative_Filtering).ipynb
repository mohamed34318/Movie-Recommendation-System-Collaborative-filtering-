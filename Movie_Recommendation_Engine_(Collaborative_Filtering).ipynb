{
  "nbformat": 4,
  "nbformat_minor": 0,
  "metadata": {
    "colab": {
      "provenance": [],
      "authorship_tag": "ABX9TyM4AgIyw9I9vsjszD52j9iu",
      "include_colab_link": true
    },
    "kernelspec": {
      "name": "python3",
      "display_name": "Python 3"
    },
    "language_info": {
      "name": "python"
    }
  },
  "cells": [
    {
      "cell_type": "markdown",
      "metadata": {
        "id": "view-in-github",
        "colab_type": "text"
      },
      "source": [
        "<a href=\"https://colab.research.google.com/github/mohamed34318/Movie-Recommendation-System-Collaborative-filtering-/blob/master/Movie_Recommendation_Engine_(Collaborative_Filtering).ipynb\" target=\"_parent\"><img src=\"https://colab.research.google.com/assets/colab-badge.svg\" alt=\"Open In Colab\"/></a>"
      ]
    },
    {
      "cell_type": "code",
      "source": [
        "import pandas as pd\n",
        "import numpy as np\n",
        "import matplotlib.pyplot as plt\n",
        "import seaborn as sns\n",
        "# natural language toolkit\n",
        "import re\n",
        "import nltk\n",
        "pd.set_option('display.max_columns', None)\n",
        "nltk.download('punkt')\n",
        "nltk.download('stopwords')"
      ],
      "metadata": {
        "colab": {
          "base_uri": "https://localhost:8080/"
        },
        "id": "ZDH4JQb7pnIs",
        "outputId": "d497572b-1415-4249-8e94-a30fbb65a7e0"
      },
      "execution_count": 84,
      "outputs": [
        {
          "output_type": "stream",
          "name": "stderr",
          "text": [
            "[nltk_data] Downloading package punkt to /root/nltk_data...\n",
            "[nltk_data]   Package punkt is already up-to-date!\n",
            "[nltk_data] Downloading package stopwords to /root/nltk_data...\n",
            "[nltk_data]   Package stopwords is already up-to-date!\n"
          ]
        },
        {
          "output_type": "execute_result",
          "data": {
            "text/plain": [
              "True"
            ]
          },
          "metadata": {},
          "execution_count": 84
        }
      ]
    },
    {
      "cell_type": "code",
      "source": [
        "df = pd.read_csv('/content/data/dd/IMDB_Top250Engmovies2_OMDB_Detailed.csv', index_col=False)\n",
        "if 'Unnamed: 0' in df.columns:\n",
        "    df = df.drop('Unnamed: 0', axis=1)\n",
        "df.head()"
      ],
      "metadata": {
        "colab": {
          "base_uri": "https://localhost:8080/",
          "height": 765
        },
        "id": "-O3wD9U7qiY_",
        "outputId": "9bff1521-2097-403f-bb07-ea0f38403628"
      },
      "execution_count": 85,
      "outputs": [
        {
          "output_type": "execute_result",
          "data": {
            "text/plain": [
              "                      Title  Year     Rated     Released  Runtime  \\\n",
              "0  The Shawshank Redemption  1994         R  14 Oct 1994  142 min   \n",
              "1             The Godfather  1972         R  24 Mar 1972  175 min   \n",
              "2    The Godfather: Part II  1974         R  20 Dec 1974  202 min   \n",
              "3           The Dark Knight  2008     PG-13  18 Jul 2008  152 min   \n",
              "4              12 Angry Men  1957  APPROVED  01 Apr 1957   96 min   \n",
              "\n",
              "                  Genre              Director  \\\n",
              "0          Crime, Drama        Frank Darabont   \n",
              "1          Crime, Drama  Francis Ford Coppola   \n",
              "2          Crime, Drama  Francis Ford Coppola   \n",
              "3  Action, Crime, Drama     Christopher Nolan   \n",
              "4          Crime, Drama          Sidney Lumet   \n",
              "\n",
              "                                              Writer  \\\n",
              "0  Stephen King (short story \"Rita Hayworth and S...   \n",
              "1  Mario Puzo (screenplay), Francis Ford Coppola ...   \n",
              "2  Francis Ford Coppola (screenplay), Mario Puzo ...   \n",
              "3  Jonathan Nolan (screenplay), Christopher Nolan...   \n",
              "4  Reginald Rose (story), Reginald Rose (screenplay)   \n",
              "\n",
              "                                              Actors  \\\n",
              "0  Tim Robbins, Morgan Freeman, Bob Gunton, Willi...   \n",
              "1  Marlon Brando, Al Pacino, James Caan, Richard ...   \n",
              "2  Al Pacino, Robert Duvall, Diane Keaton, Robert...   \n",
              "3  Christian Bale, Heath Ledger, Aaron Eckhart, M...   \n",
              "4  Martin Balsam, John Fiedler, Lee J. Cobb, E.G....   \n",
              "\n",
              "                                                Plot  \\\n",
              "0  Two imprisoned men bond over a number of years...   \n",
              "1  The aging patriarch of an organized crime dyna...   \n",
              "2  The early life and career of Vito Corleone in ...   \n",
              "3  When the menace known as the Joker emerges fro...   \n",
              "4  A jury holdout attempts to prevent a miscarria...   \n",
              "\n",
              "                                     Language  Country  \\\n",
              "0                                     English      USA   \n",
              "1                     English, Italian, Latin      USA   \n",
              "2  English, Italian, Spanish, Latin, Sicilian      USA   \n",
              "3                           English, Mandarin  USA, UK   \n",
              "4                                     English      USA   \n",
              "\n",
              "                                              Awards  \\\n",
              "0  Nominated for 7 Oscars. Another 19 wins & 30 n...   \n",
              "1    Won 3 Oscars. Another 23 wins & 27 nominations.   \n",
              "2    Won 6 Oscars. Another 10 wins & 20 nominations.   \n",
              "3  Won 2 Oscars. Another 151 wins & 153 nominations.   \n",
              "4  Nominated for 3 Oscars. Another 16 wins & 8 no...   \n",
              "\n",
              "                                              Poster           Ratings.Source  \\\n",
              "0  https://images-na.ssl-images-amazon.com/images...  Internet Movie Database   \n",
              "1  https://images-na.ssl-images-amazon.com/images...  Internet Movie Database   \n",
              "2  https://images-na.ssl-images-amazon.com/images...  Internet Movie Database   \n",
              "3  https://images-na.ssl-images-amazon.com/images...  Internet Movie Database   \n",
              "4  https://images-na.ssl-images-amazon.com/images...  Internet Movie Database   \n",
              "\n",
              "  Ratings.Value  Metascore  imdbRating  imdbVotes     imdbID   Type  \\\n",
              "0        9.3/10       80.0         9.3  1,825,626  tt0111161  movie   \n",
              "1        9.2/10      100.0         9.2  1,243,444  tt0068646  movie   \n",
              "2        9.0/10       85.0         9.0    856,870  tt0071562  movie   \n",
              "3        9.0/10       82.0         9.0  1,802,351  tt0468569  movie   \n",
              "4        8.9/10       96.0         8.9    494,215  tt0050083  movie   \n",
              "\n",
              "   tomatoMeter  tomatoImage  tomatoRating  tomatoReviews  tomatoFresh  \\\n",
              "0          NaN          NaN           NaN            NaN          NaN   \n",
              "1          NaN          NaN           NaN            NaN          NaN   \n",
              "2          NaN          NaN           NaN            NaN          NaN   \n",
              "3          NaN          NaN           NaN            NaN          NaN   \n",
              "4          NaN          NaN           NaN            NaN          NaN   \n",
              "\n",
              "   tomatoRotten  tomatoConsensus  tomatoUserMeter  tomatoUserRating  \\\n",
              "0           NaN              NaN              NaN               NaN   \n",
              "1           NaN              NaN              NaN               NaN   \n",
              "2           NaN              NaN              NaN               NaN   \n",
              "3           NaN              NaN              NaN               NaN   \n",
              "4           NaN              NaN              NaN               NaN   \n",
              "\n",
              "   tomatoUserReviews                                          tomatoURL  \\\n",
              "0                NaN  http://www.rottentomatoes.com/m/shawshank_rede...   \n",
              "1                NaN         http://www.rottentomatoes.com/m/godfather/   \n",
              "2                NaN  http://www.rottentomatoes.com/m/godfather_part...   \n",
              "3                NaN   http://www.rottentomatoes.com/m/the_dark_knight/   \n",
              "4                NaN  http://www.rottentomatoes.com/m/1000013-12_ang...   \n",
              "\n",
              "           DVD     BoxOffice                       Production  \\\n",
              "0  27 Jan 1998           NaN                Columbia Pictures   \n",
              "1  09 Oct 2001           NaN               Paramount Pictures   \n",
              "2  24 May 2005           NaN               Paramount Pictures   \n",
              "3  09 Dec 2008  $533,316,061  Warner Bros. Pictures/Legendary   \n",
              "4  06 Mar 2001           NaN             Criterion Collection   \n",
              "\n",
              "                                             Website  Response  \n",
              "0                                                NaN      True  \n",
              "1                        http://www.thegodfather.com      True  \n",
              "2                       http://www.thegodfather.com/      True  \n",
              "3               http://thedarkknight.warnerbros.com/      True  \n",
              "4  http://www.criterion.com/films/27871-12-angry-men      True  "
            ],
            "text/html": [
              "\n",
              "  <div id=\"df-52732b35-cd93-45ec-a85b-75a087c83151\" class=\"colab-df-container\">\n",
              "    <div>\n",
              "<style scoped>\n",
              "    .dataframe tbody tr th:only-of-type {\n",
              "        vertical-align: middle;\n",
              "    }\n",
              "\n",
              "    .dataframe tbody tr th {\n",
              "        vertical-align: top;\n",
              "    }\n",
              "\n",
              "    .dataframe thead th {\n",
              "        text-align: right;\n",
              "    }\n",
              "</style>\n",
              "<table border=\"1\" class=\"dataframe\">\n",
              "  <thead>\n",
              "    <tr style=\"text-align: right;\">\n",
              "      <th></th>\n",
              "      <th>Title</th>\n",
              "      <th>Year</th>\n",
              "      <th>Rated</th>\n",
              "      <th>Released</th>\n",
              "      <th>Runtime</th>\n",
              "      <th>Genre</th>\n",
              "      <th>Director</th>\n",
              "      <th>Writer</th>\n",
              "      <th>Actors</th>\n",
              "      <th>Plot</th>\n",
              "      <th>Language</th>\n",
              "      <th>Country</th>\n",
              "      <th>Awards</th>\n",
              "      <th>Poster</th>\n",
              "      <th>Ratings.Source</th>\n",
              "      <th>Ratings.Value</th>\n",
              "      <th>Metascore</th>\n",
              "      <th>imdbRating</th>\n",
              "      <th>imdbVotes</th>\n",
              "      <th>imdbID</th>\n",
              "      <th>Type</th>\n",
              "      <th>tomatoMeter</th>\n",
              "      <th>tomatoImage</th>\n",
              "      <th>tomatoRating</th>\n",
              "      <th>tomatoReviews</th>\n",
              "      <th>tomatoFresh</th>\n",
              "      <th>tomatoRotten</th>\n",
              "      <th>tomatoConsensus</th>\n",
              "      <th>tomatoUserMeter</th>\n",
              "      <th>tomatoUserRating</th>\n",
              "      <th>tomatoUserReviews</th>\n",
              "      <th>tomatoURL</th>\n",
              "      <th>DVD</th>\n",
              "      <th>BoxOffice</th>\n",
              "      <th>Production</th>\n",
              "      <th>Website</th>\n",
              "      <th>Response</th>\n",
              "    </tr>\n",
              "  </thead>\n",
              "  <tbody>\n",
              "    <tr>\n",
              "      <th>0</th>\n",
              "      <td>The Shawshank Redemption</td>\n",
              "      <td>1994</td>\n",
              "      <td>R</td>\n",
              "      <td>14 Oct 1994</td>\n",
              "      <td>142 min</td>\n",
              "      <td>Crime, Drama</td>\n",
              "      <td>Frank Darabont</td>\n",
              "      <td>Stephen King (short story \"Rita Hayworth and S...</td>\n",
              "      <td>Tim Robbins, Morgan Freeman, Bob Gunton, Willi...</td>\n",
              "      <td>Two imprisoned men bond over a number of years...</td>\n",
              "      <td>English</td>\n",
              "      <td>USA</td>\n",
              "      <td>Nominated for 7 Oscars. Another 19 wins &amp; 30 n...</td>\n",
              "      <td>https://images-na.ssl-images-amazon.com/images...</td>\n",
              "      <td>Internet Movie Database</td>\n",
              "      <td>9.3/10</td>\n",
              "      <td>80.0</td>\n",
              "      <td>9.3</td>\n",
              "      <td>1,825,626</td>\n",
              "      <td>tt0111161</td>\n",
              "      <td>movie</td>\n",
              "      <td>NaN</td>\n",
              "      <td>NaN</td>\n",
              "      <td>NaN</td>\n",
              "      <td>NaN</td>\n",
              "      <td>NaN</td>\n",
              "      <td>NaN</td>\n",
              "      <td>NaN</td>\n",
              "      <td>NaN</td>\n",
              "      <td>NaN</td>\n",
              "      <td>NaN</td>\n",
              "      <td>http://www.rottentomatoes.com/m/shawshank_rede...</td>\n",
              "      <td>27 Jan 1998</td>\n",
              "      <td>NaN</td>\n",
              "      <td>Columbia Pictures</td>\n",
              "      <td>NaN</td>\n",
              "      <td>True</td>\n",
              "    </tr>\n",
              "    <tr>\n",
              "      <th>1</th>\n",
              "      <td>The Godfather</td>\n",
              "      <td>1972</td>\n",
              "      <td>R</td>\n",
              "      <td>24 Mar 1972</td>\n",
              "      <td>175 min</td>\n",
              "      <td>Crime, Drama</td>\n",
              "      <td>Francis Ford Coppola</td>\n",
              "      <td>Mario Puzo (screenplay), Francis Ford Coppola ...</td>\n",
              "      <td>Marlon Brando, Al Pacino, James Caan, Richard ...</td>\n",
              "      <td>The aging patriarch of an organized crime dyna...</td>\n",
              "      <td>English, Italian, Latin</td>\n",
              "      <td>USA</td>\n",
              "      <td>Won 3 Oscars. Another 23 wins &amp; 27 nominations.</td>\n",
              "      <td>https://images-na.ssl-images-amazon.com/images...</td>\n",
              "      <td>Internet Movie Database</td>\n",
              "      <td>9.2/10</td>\n",
              "      <td>100.0</td>\n",
              "      <td>9.2</td>\n",
              "      <td>1,243,444</td>\n",
              "      <td>tt0068646</td>\n",
              "      <td>movie</td>\n",
              "      <td>NaN</td>\n",
              "      <td>NaN</td>\n",
              "      <td>NaN</td>\n",
              "      <td>NaN</td>\n",
              "      <td>NaN</td>\n",
              "      <td>NaN</td>\n",
              "      <td>NaN</td>\n",
              "      <td>NaN</td>\n",
              "      <td>NaN</td>\n",
              "      <td>NaN</td>\n",
              "      <td>http://www.rottentomatoes.com/m/godfather/</td>\n",
              "      <td>09 Oct 2001</td>\n",
              "      <td>NaN</td>\n",
              "      <td>Paramount Pictures</td>\n",
              "      <td>http://www.thegodfather.com</td>\n",
              "      <td>True</td>\n",
              "    </tr>\n",
              "    <tr>\n",
              "      <th>2</th>\n",
              "      <td>The Godfather: Part II</td>\n",
              "      <td>1974</td>\n",
              "      <td>R</td>\n",
              "      <td>20 Dec 1974</td>\n",
              "      <td>202 min</td>\n",
              "      <td>Crime, Drama</td>\n",
              "      <td>Francis Ford Coppola</td>\n",
              "      <td>Francis Ford Coppola (screenplay), Mario Puzo ...</td>\n",
              "      <td>Al Pacino, Robert Duvall, Diane Keaton, Robert...</td>\n",
              "      <td>The early life and career of Vito Corleone in ...</td>\n",
              "      <td>English, Italian, Spanish, Latin, Sicilian</td>\n",
              "      <td>USA</td>\n",
              "      <td>Won 6 Oscars. Another 10 wins &amp; 20 nominations.</td>\n",
              "      <td>https://images-na.ssl-images-amazon.com/images...</td>\n",
              "      <td>Internet Movie Database</td>\n",
              "      <td>9.0/10</td>\n",
              "      <td>85.0</td>\n",
              "      <td>9.0</td>\n",
              "      <td>856,870</td>\n",
              "      <td>tt0071562</td>\n",
              "      <td>movie</td>\n",
              "      <td>NaN</td>\n",
              "      <td>NaN</td>\n",
              "      <td>NaN</td>\n",
              "      <td>NaN</td>\n",
              "      <td>NaN</td>\n",
              "      <td>NaN</td>\n",
              "      <td>NaN</td>\n",
              "      <td>NaN</td>\n",
              "      <td>NaN</td>\n",
              "      <td>NaN</td>\n",
              "      <td>http://www.rottentomatoes.com/m/godfather_part...</td>\n",
              "      <td>24 May 2005</td>\n",
              "      <td>NaN</td>\n",
              "      <td>Paramount Pictures</td>\n",
              "      <td>http://www.thegodfather.com/</td>\n",
              "      <td>True</td>\n",
              "    </tr>\n",
              "    <tr>\n",
              "      <th>3</th>\n",
              "      <td>The Dark Knight</td>\n",
              "      <td>2008</td>\n",
              "      <td>PG-13</td>\n",
              "      <td>18 Jul 2008</td>\n",
              "      <td>152 min</td>\n",
              "      <td>Action, Crime, Drama</td>\n",
              "      <td>Christopher Nolan</td>\n",
              "      <td>Jonathan Nolan (screenplay), Christopher Nolan...</td>\n",
              "      <td>Christian Bale, Heath Ledger, Aaron Eckhart, M...</td>\n",
              "      <td>When the menace known as the Joker emerges fro...</td>\n",
              "      <td>English, Mandarin</td>\n",
              "      <td>USA, UK</td>\n",
              "      <td>Won 2 Oscars. Another 151 wins &amp; 153 nominations.</td>\n",
              "      <td>https://images-na.ssl-images-amazon.com/images...</td>\n",
              "      <td>Internet Movie Database</td>\n",
              "      <td>9.0/10</td>\n",
              "      <td>82.0</td>\n",
              "      <td>9.0</td>\n",
              "      <td>1,802,351</td>\n",
              "      <td>tt0468569</td>\n",
              "      <td>movie</td>\n",
              "      <td>NaN</td>\n",
              "      <td>NaN</td>\n",
              "      <td>NaN</td>\n",
              "      <td>NaN</td>\n",
              "      <td>NaN</td>\n",
              "      <td>NaN</td>\n",
              "      <td>NaN</td>\n",
              "      <td>NaN</td>\n",
              "      <td>NaN</td>\n",
              "      <td>NaN</td>\n",
              "      <td>http://www.rottentomatoes.com/m/the_dark_knight/</td>\n",
              "      <td>09 Dec 2008</td>\n",
              "      <td>$533,316,061</td>\n",
              "      <td>Warner Bros. Pictures/Legendary</td>\n",
              "      <td>http://thedarkknight.warnerbros.com/</td>\n",
              "      <td>True</td>\n",
              "    </tr>\n",
              "    <tr>\n",
              "      <th>4</th>\n",
              "      <td>12 Angry Men</td>\n",
              "      <td>1957</td>\n",
              "      <td>APPROVED</td>\n",
              "      <td>01 Apr 1957</td>\n",
              "      <td>96 min</td>\n",
              "      <td>Crime, Drama</td>\n",
              "      <td>Sidney Lumet</td>\n",
              "      <td>Reginald Rose (story), Reginald Rose (screenplay)</td>\n",
              "      <td>Martin Balsam, John Fiedler, Lee J. Cobb, E.G....</td>\n",
              "      <td>A jury holdout attempts to prevent a miscarria...</td>\n",
              "      <td>English</td>\n",
              "      <td>USA</td>\n",
              "      <td>Nominated for 3 Oscars. Another 16 wins &amp; 8 no...</td>\n",
              "      <td>https://images-na.ssl-images-amazon.com/images...</td>\n",
              "      <td>Internet Movie Database</td>\n",
              "      <td>8.9/10</td>\n",
              "      <td>96.0</td>\n",
              "      <td>8.9</td>\n",
              "      <td>494,215</td>\n",
              "      <td>tt0050083</td>\n",
              "      <td>movie</td>\n",
              "      <td>NaN</td>\n",
              "      <td>NaN</td>\n",
              "      <td>NaN</td>\n",
              "      <td>NaN</td>\n",
              "      <td>NaN</td>\n",
              "      <td>NaN</td>\n",
              "      <td>NaN</td>\n",
              "      <td>NaN</td>\n",
              "      <td>NaN</td>\n",
              "      <td>NaN</td>\n",
              "      <td>http://www.rottentomatoes.com/m/1000013-12_ang...</td>\n",
              "      <td>06 Mar 2001</td>\n",
              "      <td>NaN</td>\n",
              "      <td>Criterion Collection</td>\n",
              "      <td>http://www.criterion.com/films/27871-12-angry-men</td>\n",
              "      <td>True</td>\n",
              "    </tr>\n",
              "  </tbody>\n",
              "</table>\n",
              "</div>\n",
              "    <div class=\"colab-df-buttons\">\n",
              "\n",
              "  <div class=\"colab-df-container\">\n",
              "    <button class=\"colab-df-convert\" onclick=\"convertToInteractive('df-52732b35-cd93-45ec-a85b-75a087c83151')\"\n",
              "            title=\"Convert this dataframe to an interactive table.\"\n",
              "            style=\"display:none;\">\n",
              "\n",
              "  <svg xmlns=\"http://www.w3.org/2000/svg\" height=\"24px\" viewBox=\"0 -960 960 960\">\n",
              "    <path d=\"M120-120v-720h720v720H120Zm60-500h600v-160H180v160Zm220 220h160v-160H400v160Zm0 220h160v-160H400v160ZM180-400h160v-160H180v160Zm440 0h160v-160H620v160ZM180-180h160v-160H180v160Zm440 0h160v-160H620v160Z\"/>\n",
              "  </svg>\n",
              "    </button>\n",
              "\n",
              "  <style>\n",
              "    .colab-df-container {\n",
              "      display:flex;\n",
              "      gap: 12px;\n",
              "    }\n",
              "\n",
              "    .colab-df-convert {\n",
              "      background-color: #E8F0FE;\n",
              "      border: none;\n",
              "      border-radius: 50%;\n",
              "      cursor: pointer;\n",
              "      display: none;\n",
              "      fill: #1967D2;\n",
              "      height: 32px;\n",
              "      padding: 0 0 0 0;\n",
              "      width: 32px;\n",
              "    }\n",
              "\n",
              "    .colab-df-convert:hover {\n",
              "      background-color: #E2EBFA;\n",
              "      box-shadow: 0px 1px 2px rgba(60, 64, 67, 0.3), 0px 1px 3px 1px rgba(60, 64, 67, 0.15);\n",
              "      fill: #174EA6;\n",
              "    }\n",
              "\n",
              "    .colab-df-buttons div {\n",
              "      margin-bottom: 4px;\n",
              "    }\n",
              "\n",
              "    [theme=dark] .colab-df-convert {\n",
              "      background-color: #3B4455;\n",
              "      fill: #D2E3FC;\n",
              "    }\n",
              "\n",
              "    [theme=dark] .colab-df-convert:hover {\n",
              "      background-color: #434B5C;\n",
              "      box-shadow: 0px 1px 3px 1px rgba(0, 0, 0, 0.15);\n",
              "      filter: drop-shadow(0px 1px 2px rgba(0, 0, 0, 0.3));\n",
              "      fill: #FFFFFF;\n",
              "    }\n",
              "  </style>\n",
              "\n",
              "    <script>\n",
              "      const buttonEl =\n",
              "        document.querySelector('#df-52732b35-cd93-45ec-a85b-75a087c83151 button.colab-df-convert');\n",
              "      buttonEl.style.display =\n",
              "        google.colab.kernel.accessAllowed ? 'block' : 'none';\n",
              "\n",
              "      async function convertToInteractive(key) {\n",
              "        const element = document.querySelector('#df-52732b35-cd93-45ec-a85b-75a087c83151');\n",
              "        const dataTable =\n",
              "          await google.colab.kernel.invokeFunction('convertToInteractive',\n",
              "                                                    [key], {});\n",
              "        if (!dataTable) return;\n",
              "\n",
              "        const docLinkHtml = 'Like what you see? Visit the ' +\n",
              "          '<a target=\"_blank\" href=https://colab.research.google.com/notebooks/data_table.ipynb>data table notebook</a>'\n",
              "          + ' to learn more about interactive tables.';\n",
              "        element.innerHTML = '';\n",
              "        dataTable['output_type'] = 'display_data';\n",
              "        await google.colab.output.renderOutput(dataTable, element);\n",
              "        const docLink = document.createElement('div');\n",
              "        docLink.innerHTML = docLinkHtml;\n",
              "        element.appendChild(docLink);\n",
              "      }\n",
              "    </script>\n",
              "  </div>\n",
              "\n",
              "\n",
              "<div id=\"df-278bcd32-f539-470c-8965-a8cb3b83782c\">\n",
              "  <button class=\"colab-df-quickchart\" onclick=\"quickchart('df-278bcd32-f539-470c-8965-a8cb3b83782c')\"\n",
              "            title=\"Suggest charts\"\n",
              "            style=\"display:none;\">\n",
              "\n",
              "<svg xmlns=\"http://www.w3.org/2000/svg\" height=\"24px\"viewBox=\"0 0 24 24\"\n",
              "     width=\"24px\">\n",
              "    <g>\n",
              "        <path d=\"M19 3H5c-1.1 0-2 .9-2 2v14c0 1.1.9 2 2 2h14c1.1 0 2-.9 2-2V5c0-1.1-.9-2-2-2zM9 17H7v-7h2v7zm4 0h-2V7h2v10zm4 0h-2v-4h2v4z\"/>\n",
              "    </g>\n",
              "</svg>\n",
              "  </button>\n",
              "\n",
              "<style>\n",
              "  .colab-df-quickchart {\n",
              "      --bg-color: #E8F0FE;\n",
              "      --fill-color: #1967D2;\n",
              "      --hover-bg-color: #E2EBFA;\n",
              "      --hover-fill-color: #174EA6;\n",
              "      --disabled-fill-color: #AAA;\n",
              "      --disabled-bg-color: #DDD;\n",
              "  }\n",
              "\n",
              "  [theme=dark] .colab-df-quickchart {\n",
              "      --bg-color: #3B4455;\n",
              "      --fill-color: #D2E3FC;\n",
              "      --hover-bg-color: #434B5C;\n",
              "      --hover-fill-color: #FFFFFF;\n",
              "      --disabled-bg-color: #3B4455;\n",
              "      --disabled-fill-color: #666;\n",
              "  }\n",
              "\n",
              "  .colab-df-quickchart {\n",
              "    background-color: var(--bg-color);\n",
              "    border: none;\n",
              "    border-radius: 50%;\n",
              "    cursor: pointer;\n",
              "    display: none;\n",
              "    fill: var(--fill-color);\n",
              "    height: 32px;\n",
              "    padding: 0;\n",
              "    width: 32px;\n",
              "  }\n",
              "\n",
              "  .colab-df-quickchart:hover {\n",
              "    background-color: var(--hover-bg-color);\n",
              "    box-shadow: 0 1px 2px rgba(60, 64, 67, 0.3), 0 1px 3px 1px rgba(60, 64, 67, 0.15);\n",
              "    fill: var(--button-hover-fill-color);\n",
              "  }\n",
              "\n",
              "  .colab-df-quickchart-complete:disabled,\n",
              "  .colab-df-quickchart-complete:disabled:hover {\n",
              "    background-color: var(--disabled-bg-color);\n",
              "    fill: var(--disabled-fill-color);\n",
              "    box-shadow: none;\n",
              "  }\n",
              "\n",
              "  .colab-df-spinner {\n",
              "    border: 2px solid var(--fill-color);\n",
              "    border-color: transparent;\n",
              "    border-bottom-color: var(--fill-color);\n",
              "    animation:\n",
              "      spin 1s steps(1) infinite;\n",
              "  }\n",
              "\n",
              "  @keyframes spin {\n",
              "    0% {\n",
              "      border-color: transparent;\n",
              "      border-bottom-color: var(--fill-color);\n",
              "      border-left-color: var(--fill-color);\n",
              "    }\n",
              "    20% {\n",
              "      border-color: transparent;\n",
              "      border-left-color: var(--fill-color);\n",
              "      border-top-color: var(--fill-color);\n",
              "    }\n",
              "    30% {\n",
              "      border-color: transparent;\n",
              "      border-left-color: var(--fill-color);\n",
              "      border-top-color: var(--fill-color);\n",
              "      border-right-color: var(--fill-color);\n",
              "    }\n",
              "    40% {\n",
              "      border-color: transparent;\n",
              "      border-right-color: var(--fill-color);\n",
              "      border-top-color: var(--fill-color);\n",
              "    }\n",
              "    60% {\n",
              "      border-color: transparent;\n",
              "      border-right-color: var(--fill-color);\n",
              "    }\n",
              "    80% {\n",
              "      border-color: transparent;\n",
              "      border-right-color: var(--fill-color);\n",
              "      border-bottom-color: var(--fill-color);\n",
              "    }\n",
              "    90% {\n",
              "      border-color: transparent;\n",
              "      border-bottom-color: var(--fill-color);\n",
              "    }\n",
              "  }\n",
              "</style>\n",
              "\n",
              "  <script>\n",
              "    async function quickchart(key) {\n",
              "      const quickchartButtonEl =\n",
              "        document.querySelector('#' + key + ' button');\n",
              "      quickchartButtonEl.disabled = true;  // To prevent multiple clicks.\n",
              "      quickchartButtonEl.classList.add('colab-df-spinner');\n",
              "      try {\n",
              "        const charts = await google.colab.kernel.invokeFunction(\n",
              "            'suggestCharts', [key], {});\n",
              "      } catch (error) {\n",
              "        console.error('Error during call to suggestCharts:', error);\n",
              "      }\n",
              "      quickchartButtonEl.classList.remove('colab-df-spinner');\n",
              "      quickchartButtonEl.classList.add('colab-df-quickchart-complete');\n",
              "    }\n",
              "    (() => {\n",
              "      let quickchartButtonEl =\n",
              "        document.querySelector('#df-278bcd32-f539-470c-8965-a8cb3b83782c button');\n",
              "      quickchartButtonEl.style.display =\n",
              "        google.colab.kernel.accessAllowed ? 'block' : 'none';\n",
              "    })();\n",
              "  </script>\n",
              "</div>\n",
              "\n",
              "    </div>\n",
              "  </div>\n"
            ],
            "application/vnd.google.colaboratory.intrinsic+json": {
              "type": "dataframe",
              "variable_name": "df"
            }
          },
          "metadata": {},
          "execution_count": 85
        }
      ]
    },
    {
      "cell_type": "code",
      "source": [
        "df.info()"
      ],
      "metadata": {
        "colab": {
          "base_uri": "https://localhost:8080/"
        },
        "id": "RJFVDhUgqunA",
        "outputId": "7d341846-467c-4853-8ab1-cb3a0a9916d8"
      },
      "execution_count": 86,
      "outputs": [
        {
          "output_type": "stream",
          "name": "stdout",
          "text": [
            "<class 'pandas.core.frame.DataFrame'>\n",
            "RangeIndex: 250 entries, 0 to 249\n",
            "Data columns (total 37 columns):\n",
            " #   Column             Non-Null Count  Dtype  \n",
            "---  ------             --------------  -----  \n",
            " 0   Title              250 non-null    object \n",
            " 1   Year               250 non-null    int64  \n",
            " 2   Rated              250 non-null    object \n",
            " 3   Released           248 non-null    object \n",
            " 4   Runtime            250 non-null    object \n",
            " 5   Genre              250 non-null    object \n",
            " 6   Director           250 non-null    object \n",
            " 7   Writer             249 non-null    object \n",
            " 8   Actors             250 non-null    object \n",
            " 9   Plot               250 non-null    object \n",
            " 10  Language           250 non-null    object \n",
            " 11  Country            250 non-null    object \n",
            " 12  Awards             245 non-null    object \n",
            " 13  Poster             250 non-null    object \n",
            " 14  Ratings.Source     250 non-null    object \n",
            " 15  Ratings.Value      250 non-null    object \n",
            " 16  Metascore          177 non-null    float64\n",
            " 17  imdbRating         250 non-null    float64\n",
            " 18  imdbVotes          250 non-null    object \n",
            " 19  imdbID             250 non-null    object \n",
            " 20  Type               250 non-null    object \n",
            " 21  tomatoMeter        0 non-null      float64\n",
            " 22  tomatoImage        0 non-null      float64\n",
            " 23  tomatoRating       0 non-null      float64\n",
            " 24  tomatoReviews      0 non-null      float64\n",
            " 25  tomatoFresh        0 non-null      float64\n",
            " 26  tomatoRotten       0 non-null      float64\n",
            " 27  tomatoConsensus    0 non-null      float64\n",
            " 28  tomatoUserMeter    0 non-null      float64\n",
            " 29  tomatoUserRating   0 non-null      float64\n",
            " 30  tomatoUserReviews  0 non-null      float64\n",
            " 31  tomatoURL          250 non-null    object \n",
            " 32  DVD                247 non-null    object \n",
            " 33  BoxOffice          75 non-null     object \n",
            " 34  Production         250 non-null    object \n",
            " 35  Website            131 non-null    object \n",
            " 36  Response           250 non-null    bool   \n",
            "dtypes: bool(1), float64(12), int64(1), object(23)\n",
            "memory usage: 70.7+ KB\n"
          ]
        }
      ]
    },
    {
      "cell_type": "code",
      "source": [
        "df.shape"
      ],
      "metadata": {
        "colab": {
          "base_uri": "https://localhost:8080/"
        },
        "id": "FIljcUQBq2Y_",
        "outputId": "a973f956-376d-4363-cee0-1fe67374e0b0"
      },
      "execution_count": 87,
      "outputs": [
        {
          "output_type": "execute_result",
          "data": {
            "text/plain": [
              "(250, 37)"
            ]
          },
          "metadata": {},
          "execution_count": 87
        }
      ]
    },
    {
      "cell_type": "markdown",
      "source": [
        "#data Preprocessing"
      ],
      "metadata": {
        "id": "TK0CYHjJtAd6"
      }
    },
    {
      "cell_type": "code",
      "source": [
        "# we will convert Plot description of into list of words\n",
        "df['clean_plot'] = df['Plot'].str.lower() # convert to lower\n",
        "df['clean_plot'] = df['clean_plot'].apply(lambda x:re.sub('[^a-zA-Z]' , ' ', x)) # remove any symboles\n",
        "df['clean_plot'] = df['clean_plot'].apply(lambda x:re.sub('\\s+' , ' ', x)) # remove additional Space\n",
        "df['clean_plot']\n",
        "\n",
        "# after that will tokanize sentance into list of words + remove Stop words"
      ],
      "metadata": {
        "colab": {
          "base_uri": "https://localhost:8080/"
        },
        "id": "CaQRrz9lrIgC",
        "outputId": "2d215a39-1816-44ff-9192-e08676a5598d"
      },
      "execution_count": 88,
      "outputs": [
        {
          "output_type": "execute_result",
          "data": {
            "text/plain": [
              "0      two imprisoned men bond over a number of years...\n",
              "1      the aging patriarch of an organized crime dyna...\n",
              "2      the early life and career of vito corleone in ...\n",
              "3      when the menace known as the joker emerges fro...\n",
              "4      a jury holdout attempts to prevent a miscarria...\n",
              "                             ...                        \n",
              "245    the desperate life of a chronic alcoholic is f...\n",
              "246    a something supervising staff member of a resi...\n",
              "247    a newspaper editor uses every trick in the boo...\n",
              "248    an old man makes a long journey by lawn mover ...\n",
              "249    a mumbai teen reflects on his upbringing in th...\n",
              "Name: clean_plot, Length: 250, dtype: object"
            ]
          },
          "metadata": {},
          "execution_count": 88
        }
      ]
    },
    {
      "cell_type": "code",
      "source": [
        "# will tokanize sentance into list of words\n",
        "df['clean_plot'] = df['clean_plot'].apply(lambda x:nltk.word_tokenize(x))\n",
        "df['clean_plot']"
      ],
      "metadata": {
        "colab": {
          "base_uri": "https://localhost:8080/"
        },
        "id": "41Z0kYeYrEWu",
        "outputId": "067122cc-bdd8-4950-c70e-0204e37465d9"
      },
      "execution_count": 89,
      "outputs": [
        {
          "output_type": "execute_result",
          "data": {
            "text/plain": [
              "0      [two, imprisoned, men, bond, over, a, number, ...\n",
              "1      [the, aging, patriarch, of, an, organized, cri...\n",
              "2      [the, early, life, and, career, of, vito, corl...\n",
              "3      [when, the, menace, known, as, the, joker, eme...\n",
              "4      [a, jury, holdout, attempts, to, prevent, a, m...\n",
              "                             ...                        \n",
              "245    [the, desperate, life, of, a, chronic, alcohol...\n",
              "246    [a, something, supervising, staff, member, of,...\n",
              "247    [a, newspaper, editor, uses, every, trick, in,...\n",
              "248    [an, old, man, makes, a, long, journey, by, la...\n",
              "249    [a, mumbai, teen, reflects, on, his, upbringin...\n",
              "Name: clean_plot, Length: 250, dtype: object"
            ]
          },
          "metadata": {},
          "execution_count": 89
        }
      ]
    },
    {
      "source": [
        "nltk.download('stopwords') # Download stopwords data\n",
        "stopwords = nltk.corpus.stopwords.words('english') # Correct the language identifier to 'english'\n",
        "df['clean_plot'] = df['clean_plot'].apply(lambda x:[w for w in x if w not in stopwords])\n",
        "df['clean_plot']"
      ],
      "cell_type": "code",
      "metadata": {
        "colab": {
          "base_uri": "https://localhost:8080/"
        },
        "id": "6i4TEipFvDHD",
        "outputId": "2aa697c1-8b79-4305-d81c-967a2e205935"
      },
      "execution_count": 90,
      "outputs": [
        {
          "output_type": "stream",
          "name": "stderr",
          "text": [
            "[nltk_data] Downloading package stopwords to /root/nltk_data...\n",
            "[nltk_data]   Package stopwords is already up-to-date!\n"
          ]
        },
        {
          "output_type": "execute_result",
          "data": {
            "text/plain": [
              "0      [two, imprisoned, men, bond, number, years, fi...\n",
              "1      [aging, patriarch, organized, crime, dynasty, ...\n",
              "2      [early, life, career, vito, corleone, new, yor...\n",
              "3      [menace, known, joker, emerges, mysterious, pa...\n",
              "4      [jury, holdout, attempts, prevent, miscarriage...\n",
              "                             ...                        \n",
              "245    [desperate, life, chronic, alcoholic, followed...\n",
              "246    [something, supervising, staff, member, reside...\n",
              "247    [newspaper, editor, uses, every, trick, book, ...\n",
              "248    [old, man, makes, long, journey, lawn, mover, ...\n",
              "249    [mumbai, teen, reflects, upbringing, slums, ac...\n",
              "Name: clean_plot, Length: 250, dtype: object"
            ]
          },
          "metadata": {},
          "execution_count": 90
        }
      ]
    },
    {
      "cell_type": "code",
      "source": [
        "df['clean_Writer'] = df['Writer'].str.lower()\n",
        "df['clean_Writer'] = df['clean_Writer'].astype(str).apply(lambda x:re.sub('[^a-zA-Z]' , ' ', x))\n",
        "df['clean_Writer'] = df['clean_Writer'].apply(lambda x:re.sub('\\s+' , ' ',x))\n",
        "df['clean_Writer']"
      ],
      "metadata": {
        "colab": {
          "base_uri": "https://localhost:8080/"
        },
        "id": "fsKoxadE3qLD",
        "outputId": "36632a25-8419-405f-c80e-810d7b2d6131"
      },
      "execution_count": 92,
      "outputs": [
        {
          "output_type": "execute_result",
          "data": {
            "text/plain": [
              "0      stephen king short story rita hayworth and sha...\n",
              "1      mario puzo screenplay francis ford coppola scr...\n",
              "2      francis ford coppola screenplay mario puzo scr...\n",
              "3      jonathan nolan screenplay christopher nolan sc...\n",
              "4          reginald rose story reginald rose screenplay \n",
              "                             ...                        \n",
              "245    charles r jackson from the novel by charles br...\n",
              "246                                destin daniel cretton\n",
              "247    charles lederer screen play ben hecht from the...\n",
              "248                              john roach mary sweeney\n",
              "249         simon beaufoy screenplay vikas swarup novel \n",
              "Name: clean_Writer, Length: 250, dtype: object"
            ]
          },
          "metadata": {},
          "execution_count": 92
        }
      ]
    },
    {
      "cell_type": "code",
      "source": [
        "df['clean_Writer'] = df['clean_Writer'].apply(lambda x:nltk.word_tokenize(x))\n",
        "stopwords = nltk.corpus.stopwords.words('english')\n",
        "df['clean_Writer'] = df['clean_Writer'].apply(lambda x:[w for w in x if w not in stopwords])\n",
        "df['clean_Writer']"
      ],
      "metadata": {
        "colab": {
          "base_uri": "https://localhost:8080/"
        },
        "id": "EYD5ARnQ5HzQ",
        "outputId": "44b98910-889d-4373-981b-aae44c81f6b7"
      },
      "execution_count": 93,
      "outputs": [
        {
          "output_type": "execute_result",
          "data": {
            "text/plain": [
              "0      [stephen, king, short, story, rita, hayworth, ...\n",
              "1      [mario, puzo, screenplay, francis, ford, coppo...\n",
              "2      [francis, ford, coppola, screenplay, mario, pu...\n",
              "3      [jonathan, nolan, screenplay, christopher, nol...\n",
              "4      [reginald, rose, story, reginald, rose, screen...\n",
              "                             ...                        \n",
              "245    [charles, r, jackson, novel, charles, brackett...\n",
              "246                            [destin, daniel, cretton]\n",
              "247    [charles, lederer, screen, play, ben, hecht, p...\n",
              "248                         [john, roach, mary, sweeney]\n",
              "249    [simon, beaufoy, screenplay, vikas, swarup, no...\n",
              "Name: clean_Writer, Length: 250, dtype: object"
            ]
          },
          "metadata": {},
          "execution_count": 93
        }
      ]
    },
    {
      "cell_type": "code",
      "source": [
        "# split some columns by using comma\n",
        "df['Director'] = df['Director'].apply(lambda x : x.split(','))\n",
        "df['Genre'] = df['Genre'].apply(lambda x : x.split(','))\n",
        "df['Actors'] = df['Actors'].apply(lambda x : x.split(','))\n",
        "df['Language'] = df['Language'].apply(lambda x : x.split(','))\n",
        "df['Actors'][0]"
      ],
      "metadata": {
        "colab": {
          "base_uri": "https://localhost:8080/"
        },
        "id": "EImk2B8MuphP",
        "outputId": "f743e1cc-0cc1-4ff4-9c9b-3bf3f9a05d54"
      },
      "execution_count": 94,
      "outputs": [
        {
          "output_type": "execute_result",
          "data": {
            "text/plain": [
              "['Tim Robbins', ' Morgan Freeman', ' Bob Gunton', ' William Sadler']"
            ]
          },
          "metadata": {},
          "execution_count": 94
        }
      ]
    },
    {
      "cell_type": "code",
      "source": [
        "# removing space in words\n",
        "df['Genre'] = df['Genre'].apply(lambda X:[a.lower().replace(' ' , '') for a in X])\n",
        "df['Actors'] = df['Actors'].apply(lambda X:[a.lower().replace(' ' , '') for a in X])\n",
        "df['Director'] = df['Director'].apply(lambda X:[a.lower().replace(' ' , '') for a in X])\n",
        "df['Language'] = df['Language'].apply(lambda X:[a.lower().replace(' ' , '') for a in X])\n",
        "df['Actors'][0]"
      ],
      "metadata": {
        "colab": {
          "base_uri": "https://localhost:8080/"
        },
        "id": "K6-LKLNwwITK",
        "outputId": "c2c11010-f8dd-4c2b-9210-5d3ee72609e0"
      },
      "execution_count": 96,
      "outputs": [
        {
          "output_type": "execute_result",
          "data": {
            "text/plain": [
              "['timrobbins', 'morganfreeman', 'bobgunton', 'williamsadler']"
            ]
          },
          "metadata": {},
          "execution_count": 96
        }
      ]
    },
    {
      "cell_type": "code",
      "source": [
        "# let's combine all sentances again\n",
        "l=[]\n",
        "columns = ['Director', 'Genre', 'Actors', 'clean_plot','clean_Writer']\n",
        "for i in range(len(df)):\n",
        "  words=''\n",
        "  for col in columns:\n",
        "      words+=' '.join(df[col][i])+' '\n",
        "  l.append(words)\n",
        ""
      ],
      "metadata": {
        "id": "OSYlHzk8wr8o"
      },
      "execution_count": 97,
      "outputs": []
    },
    {
      "cell_type": "code",
      "source": [
        "df['clean_input'] = l\n",
        "df['clean_input']"
      ],
      "metadata": {
        "colab": {
          "base_uri": "https://localhost:8080/"
        },
        "id": "oOorFJTqyfol",
        "outputId": "68372805-9a88-43a5-f445-206a2c8a6587"
      },
      "execution_count": 98,
      "outputs": [
        {
          "output_type": "execute_result",
          "data": {
            "text/plain": [
              "0      frankdarabont crime drama timrobbins morganfre...\n",
              "1      francisfordcoppola crime drama marlonbrando al...\n",
              "2      francisfordcoppola crime drama alpacino robert...\n",
              "3      christophernolan action crime drama christianb...\n",
              "4      sidneylumet crime drama martinbalsam johnfiedl...\n",
              "                             ...                        \n",
              "245    billywilder drama film-noir raymilland janewym...\n",
              "246    destindanielcretton drama brielarson johngalla...\n",
              "247    howardhawks comedy drama romance carygrant ros...\n",
              "248    davidlynch biography drama sissyspacek janegal...\n",
              "249    dannyboyle loveleentandan drama devpatel saura...\n",
              "Name: clean_input, Length: 250, dtype: object"
            ]
          },
          "metadata": {},
          "execution_count": 98
        }
      ]
    },
    {
      "cell_type": "code",
      "source": [
        "ddf=df[['Title' , 'clean_input']]\n",
        "ddf.head()"
      ],
      "metadata": {
        "colab": {
          "base_uri": "https://localhost:8080/",
          "height": 206
        },
        "id": "qArZbk38ykVf",
        "outputId": "fff1509d-2cc0-4c0d-fd31-a3a74c85bc57"
      },
      "execution_count": 99,
      "outputs": [
        {
          "output_type": "execute_result",
          "data": {
            "text/plain": [
              "                      Title                                        clean_input\n",
              "0  The Shawshank Redemption  frankdarabont crime drama timrobbins morganfre...\n",
              "1             The Godfather  francisfordcoppola crime drama marlonbrando al...\n",
              "2    The Godfather: Part II  francisfordcoppola crime drama alpacino robert...\n",
              "3           The Dark Knight  christophernolan action crime drama christianb...\n",
              "4              12 Angry Men  sidneylumet crime drama martinbalsam johnfiedl..."
            ],
            "text/html": [
              "\n",
              "  <div id=\"df-5a89d9be-bc40-4e88-9ae7-043d3fbced8f\" class=\"colab-df-container\">\n",
              "    <div>\n",
              "<style scoped>\n",
              "    .dataframe tbody tr th:only-of-type {\n",
              "        vertical-align: middle;\n",
              "    }\n",
              "\n",
              "    .dataframe tbody tr th {\n",
              "        vertical-align: top;\n",
              "    }\n",
              "\n",
              "    .dataframe thead th {\n",
              "        text-align: right;\n",
              "    }\n",
              "</style>\n",
              "<table border=\"1\" class=\"dataframe\">\n",
              "  <thead>\n",
              "    <tr style=\"text-align: right;\">\n",
              "      <th></th>\n",
              "      <th>Title</th>\n",
              "      <th>clean_input</th>\n",
              "    </tr>\n",
              "  </thead>\n",
              "  <tbody>\n",
              "    <tr>\n",
              "      <th>0</th>\n",
              "      <td>The Shawshank Redemption</td>\n",
              "      <td>frankdarabont crime drama timrobbins morganfre...</td>\n",
              "    </tr>\n",
              "    <tr>\n",
              "      <th>1</th>\n",
              "      <td>The Godfather</td>\n",
              "      <td>francisfordcoppola crime drama marlonbrando al...</td>\n",
              "    </tr>\n",
              "    <tr>\n",
              "      <th>2</th>\n",
              "      <td>The Godfather: Part II</td>\n",
              "      <td>francisfordcoppola crime drama alpacino robert...</td>\n",
              "    </tr>\n",
              "    <tr>\n",
              "      <th>3</th>\n",
              "      <td>The Dark Knight</td>\n",
              "      <td>christophernolan action crime drama christianb...</td>\n",
              "    </tr>\n",
              "    <tr>\n",
              "      <th>4</th>\n",
              "      <td>12 Angry Men</td>\n",
              "      <td>sidneylumet crime drama martinbalsam johnfiedl...</td>\n",
              "    </tr>\n",
              "  </tbody>\n",
              "</table>\n",
              "</div>\n",
              "    <div class=\"colab-df-buttons\">\n",
              "\n",
              "  <div class=\"colab-df-container\">\n",
              "    <button class=\"colab-df-convert\" onclick=\"convertToInteractive('df-5a89d9be-bc40-4e88-9ae7-043d3fbced8f')\"\n",
              "            title=\"Convert this dataframe to an interactive table.\"\n",
              "            style=\"display:none;\">\n",
              "\n",
              "  <svg xmlns=\"http://www.w3.org/2000/svg\" height=\"24px\" viewBox=\"0 -960 960 960\">\n",
              "    <path d=\"M120-120v-720h720v720H120Zm60-500h600v-160H180v160Zm220 220h160v-160H400v160Zm0 220h160v-160H400v160ZM180-400h160v-160H180v160Zm440 0h160v-160H620v160ZM180-180h160v-160H180v160Zm440 0h160v-160H620v160Z\"/>\n",
              "  </svg>\n",
              "    </button>\n",
              "\n",
              "  <style>\n",
              "    .colab-df-container {\n",
              "      display:flex;\n",
              "      gap: 12px;\n",
              "    }\n",
              "\n",
              "    .colab-df-convert {\n",
              "      background-color: #E8F0FE;\n",
              "      border: none;\n",
              "      border-radius: 50%;\n",
              "      cursor: pointer;\n",
              "      display: none;\n",
              "      fill: #1967D2;\n",
              "      height: 32px;\n",
              "      padding: 0 0 0 0;\n",
              "      width: 32px;\n",
              "    }\n",
              "\n",
              "    .colab-df-convert:hover {\n",
              "      background-color: #E2EBFA;\n",
              "      box-shadow: 0px 1px 2px rgba(60, 64, 67, 0.3), 0px 1px 3px 1px rgba(60, 64, 67, 0.15);\n",
              "      fill: #174EA6;\n",
              "    }\n",
              "\n",
              "    .colab-df-buttons div {\n",
              "      margin-bottom: 4px;\n",
              "    }\n",
              "\n",
              "    [theme=dark] .colab-df-convert {\n",
              "      background-color: #3B4455;\n",
              "      fill: #D2E3FC;\n",
              "    }\n",
              "\n",
              "    [theme=dark] .colab-df-convert:hover {\n",
              "      background-color: #434B5C;\n",
              "      box-shadow: 0px 1px 3px 1px rgba(0, 0, 0, 0.15);\n",
              "      filter: drop-shadow(0px 1px 2px rgba(0, 0, 0, 0.3));\n",
              "      fill: #FFFFFF;\n",
              "    }\n",
              "  </style>\n",
              "\n",
              "    <script>\n",
              "      const buttonEl =\n",
              "        document.querySelector('#df-5a89d9be-bc40-4e88-9ae7-043d3fbced8f button.colab-df-convert');\n",
              "      buttonEl.style.display =\n",
              "        google.colab.kernel.accessAllowed ? 'block' : 'none';\n",
              "\n",
              "      async function convertToInteractive(key) {\n",
              "        const element = document.querySelector('#df-5a89d9be-bc40-4e88-9ae7-043d3fbced8f');\n",
              "        const dataTable =\n",
              "          await google.colab.kernel.invokeFunction('convertToInteractive',\n",
              "                                                    [key], {});\n",
              "        if (!dataTable) return;\n",
              "\n",
              "        const docLinkHtml = 'Like what you see? Visit the ' +\n",
              "          '<a target=\"_blank\" href=https://colab.research.google.com/notebooks/data_table.ipynb>data table notebook</a>'\n",
              "          + ' to learn more about interactive tables.';\n",
              "        element.innerHTML = '';\n",
              "        dataTable['output_type'] = 'display_data';\n",
              "        await google.colab.output.renderOutput(dataTable, element);\n",
              "        const docLink = document.createElement('div');\n",
              "        docLink.innerHTML = docLinkHtml;\n",
              "        element.appendChild(docLink);\n",
              "      }\n",
              "    </script>\n",
              "  </div>\n",
              "\n",
              "\n",
              "<div id=\"df-1215cb90-457d-4839-84dd-af87cee7b66b\">\n",
              "  <button class=\"colab-df-quickchart\" onclick=\"quickchart('df-1215cb90-457d-4839-84dd-af87cee7b66b')\"\n",
              "            title=\"Suggest charts\"\n",
              "            style=\"display:none;\">\n",
              "\n",
              "<svg xmlns=\"http://www.w3.org/2000/svg\" height=\"24px\"viewBox=\"0 0 24 24\"\n",
              "     width=\"24px\">\n",
              "    <g>\n",
              "        <path d=\"M19 3H5c-1.1 0-2 .9-2 2v14c0 1.1.9 2 2 2h14c1.1 0 2-.9 2-2V5c0-1.1-.9-2-2-2zM9 17H7v-7h2v7zm4 0h-2V7h2v10zm4 0h-2v-4h2v4z\"/>\n",
              "    </g>\n",
              "</svg>\n",
              "  </button>\n",
              "\n",
              "<style>\n",
              "  .colab-df-quickchart {\n",
              "      --bg-color: #E8F0FE;\n",
              "      --fill-color: #1967D2;\n",
              "      --hover-bg-color: #E2EBFA;\n",
              "      --hover-fill-color: #174EA6;\n",
              "      --disabled-fill-color: #AAA;\n",
              "      --disabled-bg-color: #DDD;\n",
              "  }\n",
              "\n",
              "  [theme=dark] .colab-df-quickchart {\n",
              "      --bg-color: #3B4455;\n",
              "      --fill-color: #D2E3FC;\n",
              "      --hover-bg-color: #434B5C;\n",
              "      --hover-fill-color: #FFFFFF;\n",
              "      --disabled-bg-color: #3B4455;\n",
              "      --disabled-fill-color: #666;\n",
              "  }\n",
              "\n",
              "  .colab-df-quickchart {\n",
              "    background-color: var(--bg-color);\n",
              "    border: none;\n",
              "    border-radius: 50%;\n",
              "    cursor: pointer;\n",
              "    display: none;\n",
              "    fill: var(--fill-color);\n",
              "    height: 32px;\n",
              "    padding: 0;\n",
              "    width: 32px;\n",
              "  }\n",
              "\n",
              "  .colab-df-quickchart:hover {\n",
              "    background-color: var(--hover-bg-color);\n",
              "    box-shadow: 0 1px 2px rgba(60, 64, 67, 0.3), 0 1px 3px 1px rgba(60, 64, 67, 0.15);\n",
              "    fill: var(--button-hover-fill-color);\n",
              "  }\n",
              "\n",
              "  .colab-df-quickchart-complete:disabled,\n",
              "  .colab-df-quickchart-complete:disabled:hover {\n",
              "    background-color: var(--disabled-bg-color);\n",
              "    fill: var(--disabled-fill-color);\n",
              "    box-shadow: none;\n",
              "  }\n",
              "\n",
              "  .colab-df-spinner {\n",
              "    border: 2px solid var(--fill-color);\n",
              "    border-color: transparent;\n",
              "    border-bottom-color: var(--fill-color);\n",
              "    animation:\n",
              "      spin 1s steps(1) infinite;\n",
              "  }\n",
              "\n",
              "  @keyframes spin {\n",
              "    0% {\n",
              "      border-color: transparent;\n",
              "      border-bottom-color: var(--fill-color);\n",
              "      border-left-color: var(--fill-color);\n",
              "    }\n",
              "    20% {\n",
              "      border-color: transparent;\n",
              "      border-left-color: var(--fill-color);\n",
              "      border-top-color: var(--fill-color);\n",
              "    }\n",
              "    30% {\n",
              "      border-color: transparent;\n",
              "      border-left-color: var(--fill-color);\n",
              "      border-top-color: var(--fill-color);\n",
              "      border-right-color: var(--fill-color);\n",
              "    }\n",
              "    40% {\n",
              "      border-color: transparent;\n",
              "      border-right-color: var(--fill-color);\n",
              "      border-top-color: var(--fill-color);\n",
              "    }\n",
              "    60% {\n",
              "      border-color: transparent;\n",
              "      border-right-color: var(--fill-color);\n",
              "    }\n",
              "    80% {\n",
              "      border-color: transparent;\n",
              "      border-right-color: var(--fill-color);\n",
              "      border-bottom-color: var(--fill-color);\n",
              "    }\n",
              "    90% {\n",
              "      border-color: transparent;\n",
              "      border-bottom-color: var(--fill-color);\n",
              "    }\n",
              "  }\n",
              "</style>\n",
              "\n",
              "  <script>\n",
              "    async function quickchart(key) {\n",
              "      const quickchartButtonEl =\n",
              "        document.querySelector('#' + key + ' button');\n",
              "      quickchartButtonEl.disabled = true;  // To prevent multiple clicks.\n",
              "      quickchartButtonEl.classList.add('colab-df-spinner');\n",
              "      try {\n",
              "        const charts = await google.colab.kernel.invokeFunction(\n",
              "            'suggestCharts', [key], {});\n",
              "      } catch (error) {\n",
              "        console.error('Error during call to suggestCharts:', error);\n",
              "      }\n",
              "      quickchartButtonEl.classList.remove('colab-df-spinner');\n",
              "      quickchartButtonEl.classList.add('colab-df-quickchart-complete');\n",
              "    }\n",
              "    (() => {\n",
              "      let quickchartButtonEl =\n",
              "        document.querySelector('#df-1215cb90-457d-4839-84dd-af87cee7b66b button');\n",
              "      quickchartButtonEl.style.display =\n",
              "        google.colab.kernel.accessAllowed ? 'block' : 'none';\n",
              "    })();\n",
              "  </script>\n",
              "</div>\n",
              "\n",
              "    </div>\n",
              "  </div>\n"
            ],
            "application/vnd.google.colaboratory.intrinsic+json": {
              "type": "dataframe",
              "variable_name": "ddf",
              "summary": "{\n  \"name\": \"ddf\",\n  \"rows\": 250,\n  \"fields\": [\n    {\n      \"column\": \"Title\",\n      \"properties\": {\n        \"dtype\": \"string\",\n        \"num_unique_values\": 250,\n        \"samples\": [\n          \"Rush\",\n          \"The Lord of the Rings: The Return of the King\",\n          \"Die Hard\"\n        ],\n        \"semantic_type\": \"\",\n        \"description\": \"\"\n      }\n    },\n    {\n      \"column\": \"clean_input\",\n      \"properties\": {\n        \"dtype\": \"string\",\n        \"num_unique_values\": 250,\n        \"samples\": [\n          \"ronhoward action biography drama chrishemsworth danielbr\\u00fchl oliviawilde alexandramarialara merciless rivalry formula one rivals james hunt niki lauda peter morgan \",\n          \"peterjackson adventure drama fantasy noelappleby aliastin seanastin davidaston gandalf aragorn lead world men sauron army draw gaze frodo sam approach mount doom one ring j r r tolkien novel fran walsh screenplay philippa boyens screenplay peter jackson screenplay \",\n          \"johnmctiernan action thriller brucewillis bonniebedelia reginaldveljohnson paulgleason john mcclane officer nypd tries save wife holly gennaro several others taken hostage german terrorist hans gruber christmas party nakatomi plaza los angeles roderick thorp novel jeb stuart screenplay steven e de souza screenplay \"\n        ],\n        \"semantic_type\": \"\",\n        \"description\": \"\"\n      }\n    }\n  ]\n}"
            }
          },
          "metadata": {},
          "execution_count": 99
        }
      ]
    },
    {
      "cell_type": "code",
      "source": [
        "# feature extraction\n",
        "from sklearn.feature_extraction.text import TfidfVectorizer, CountVectorizer\n",
        "tfidf = TfidfVectorizer(stop_words='english')\n",
        "count = CountVectorizer(stop_words='english')\n",
        "features = tfidf.fit_transform(ddf['clean_input'])\n",
        "features.shape"
      ],
      "metadata": {
        "colab": {
          "base_uri": "https://localhost:8080/"
        },
        "id": "KAXUV6QVyvnb",
        "outputId": "89c97b22-f2a3-4645-91a5-1f3eaba8b662"
      },
      "execution_count": 100,
      "outputs": [
        {
          "output_type": "execute_result",
          "data": {
            "text/plain": [
              "(250, 3849)"
            ]
          },
          "metadata": {},
          "execution_count": 100
        }
      ]
    },
    {
      "cell_type": "code",
      "source": [
        "# calculate Cos Similarity\n",
        "from sklearn.metrics.pairwise import cosine_similarity\n",
        "cos_sim = cosine_similarity(features, features)\n",
        "cos_sim"
      ],
      "metadata": {
        "colab": {
          "base_uri": "https://localhost:8080/"
        },
        "id": "ttKNe2QWzXcY",
        "outputId": "bb41ae5e-bd3c-446b-97d3-e233776cca7b"
      },
      "execution_count": 101,
      "outputs": [
        {
          "output_type": "execute_result",
          "data": {
            "text/plain": [
              "array([[1.        , 0.02262611, 0.02224851, ..., 0.0022595 , 0.00265205,\n",
              "        0.0056169 ],\n",
              "       [0.02262611, 1.        , 0.4975832 , ..., 0.00228826, 0.00268581,\n",
              "        0.01593044],\n",
              "       [0.02224851, 0.4975832 , 1.        , ..., 0.00225007, 0.00264098,\n",
              "        0.01566458],\n",
              "       ...,\n",
              "       [0.0022595 , 0.00228826, 0.00225007, ..., 1.        , 0.00260112,\n",
              "        0.00248191],\n",
              "       [0.00265205, 0.00268581, 0.00264098, ..., 0.00260112, 1.        ,\n",
              "        0.0029131 ],\n",
              "       [0.0056169 , 0.01593044, 0.01566458, ..., 0.00248191, 0.0029131 ,\n",
              "        1.        ]])"
            ]
          },
          "metadata": {},
          "execution_count": 101
        }
      ]
    },
    {
      "cell_type": "markdown",
      "source": [
        "## Build Recommendation System"
      ],
      "metadata": {
        "id": "pdK2f4nxz2Zz"
      }
    },
    {
      "cell_type": "code",
      "source": [
        "# we will use the previous matrix to recommend movies\n",
        "index = pd.Series(ddf['Title'])\n",
        "index.head()"
      ],
      "metadata": {
        "colab": {
          "base_uri": "https://localhost:8080/"
        },
        "id": "PO4ce5IgzlsM",
        "outputId": "53b83302-3b7d-425d-a77d-c778ff0d5f49"
      },
      "execution_count": 102,
      "outputs": [
        {
          "output_type": "execute_result",
          "data": {
            "text/plain": [
              "0    The Shawshank Redemption\n",
              "1               The Godfather\n",
              "2      The Godfather: Part II\n",
              "3             The Dark Knight\n",
              "4                12 Angry Men\n",
              "Name: Title, dtype: object"
            ]
          },
          "metadata": {},
          "execution_count": 102
        }
      ]
    },
    {
      "cell_type": "code",
      "source": [
        "# let's build Function\n",
        "def recommend_movie(title ):\n",
        "  movies=[]\n",
        "  idx = index[index==title].index[0]\n",
        "  score = pd.Series(cos_sim[idx]).sort_values(ascending=False)\n",
        "  top10 = list(score.iloc[1:11].index)\n",
        "  for i in top10:\n",
        "    movies.append(ddf['Title'][i])\n",
        "  return movies\n"
      ],
      "metadata": {
        "id": "X8avfNiQ0NQy"
      },
      "execution_count": 103,
      "outputs": []
    },
    {
      "cell_type": "code",
      "source": [
        "recommend_movie('The Dark Knight')"
      ],
      "metadata": {
        "colab": {
          "base_uri": "https://localhost:8080/"
        },
        "id": "5GFrq0G31YMb",
        "outputId": "b49177e7-dd40-4944-afe1-78223b4f8ecc"
      },
      "execution_count": 105,
      "outputs": [
        {
          "output_type": "execute_result",
          "data": {
            "text/plain": [
              "['The Dark Knight Rises',\n",
              " 'Batman Begins',\n",
              " 'The Prestige',\n",
              " 'Interstellar',\n",
              " 'Memento',\n",
              " 'Inception',\n",
              " 'The Lion King',\n",
              " 'Aladdin',\n",
              " 'Spider-Man: Homecoming',\n",
              " 'Aliens']"
            ]
          },
          "metadata": {},
          "execution_count": 105
        }
      ]
    },
    {
      "cell_type": "code",
      "source": [],
      "metadata": {
        "id": "yUQ7ARBI1mAW"
      },
      "execution_count": null,
      "outputs": []
    }
  ]
}